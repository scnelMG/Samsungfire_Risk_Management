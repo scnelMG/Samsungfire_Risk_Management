{
  "nbformat": 4,
  "nbformat_minor": 0,
  "metadata": {
    "colab": {
      "private_outputs": true,
      "provenance": []
    },
    "kernelspec": {
      "name": "python3",
      "display_name": "Python 3"
    },
    "language_info": {
      "name": "python"
    }
  },
  "cells": [
    {
      "cell_type": "code",
      "execution_count": null,
      "metadata": {
        "id": "pjWxk15VvZXD"
      },
      "outputs": [],
      "source": [
        "import pandas as pd\n",
        "import matplotlib.pyplot as plt\n",
        "import numpy as np\n",
        "import seaborn as sns"
      ]
    },
    {
      "cell_type": "code",
      "source": [
        "data = pd.read_csv('/content/최종데이터.csv', encoding='cp949',index_col = 0)"
      ],
      "metadata": {
        "id": "tUE2_lcc0kel"
      },
      "execution_count": null,
      "outputs": []
    },
    {
      "cell_type": "code",
      "source": [],
      "metadata": {
        "id": "utQvWYCu0Was"
      },
      "execution_count": null,
      "outputs": []
    },
    {
      "cell_type": "code",
      "source": [
        "data"
      ],
      "metadata": {
        "id": "AqE36v6XdsaN"
      },
      "execution_count": null,
      "outputs": []
    },
    {
      "cell_type": "markdown",
      "source": [
        "## null 지속"
      ],
      "metadata": {
        "id": "QayN72c7LXKU"
      }
    },
    {
      "cell_type": "code",
      "source": [
        "data[data['null_지속'] > 0]['null_지속'].describe()"
      ],
      "metadata": {
        "id": "ecKpMgWiLY0P"
      },
      "execution_count": null,
      "outputs": []
    },
    {
      "cell_type": "markdown",
      "source": [
        "## 구독자 성장율"
      ],
      "metadata": {
        "id": "5MMx8ie_k8Lk"
      }
    },
    {
      "cell_type": "code",
      "source": [
        "# 이상치 정의를 위한 IQR 계산\n",
        "Q1 = data[\"구독자 성장율\"].quantile(0.25)\n",
        "Q3 = data[\"구독자 성장율\"].quantile(0.75)\n",
        "IQR = Q3 - Q1\n",
        "\n",
        "upper_bound = Q3 + 1.5 * IQR\n",
        "upper_bound"
      ],
      "metadata": {
        "id": "rxx4aFYzqKVW"
      },
      "execution_count": null,
      "outputs": []
    },
    {
      "cell_type": "code",
      "source": [
        "like = data[[\"월\",\"연도\",\"구독자 성장율\"]]\n",
        "sum = 0\n",
        "sum_des = 0\n",
        "for i in range(0,13):\n",
        "    data1 = like.iloc[i::13]\n",
        "\n",
        "    data2 = data1[data1[\"구독자 성장율\"] < upper_bound]\n",
        "    plt.figure(figsize = (4, 7))\n",
        "    sns.boxplot(y=data2[\"구독자 성장율\"])\n",
        "    plt.title(f'{i}월 구독자 성장율', size = 15)\n",
        "    # Matplotlib 함수를 사용하여 플롯의 숫자 형식 변경\n",
        "    plt.ticklabel_format(style='plain', axis='y')  # 'axis' 매개변수 추가\n",
        "    plt.show()\n",
        "\n",
        "    print(data2[\"구독자 성장율\"].describe())\n",
        "\n",
        "    # 이상치 정의를 위한 IQR 계산\n",
        "    Q1 = data2[\"구독자 성장율\"].quantile(0.25)\n",
        "    Q3 = data2[\"구독자 성장율\"].quantile(0.75)\n",
        "    IQR = Q3 - Q1\n",
        "\n",
        "    # IQR을 사용하여 이상치 제거\n",
        "    upper_bound = Q3 + 1.5 * IQR\n",
        "    print(\"*************************************************************\")\n",
        "    print(upper_bound)\n",
        "    sum = upper_bound + sum\n",
        "    sum_des = data2[\"구독자 성장율\"].describe() +  sum_des\n",
        "    print(\"*************************************************************\")\n",
        "\n",
        "\n",
        "print(sum /13)\n",
        "print(sum_des / 13)"
      ],
      "metadata": {
        "id": "wYoQp9WMqRlD"
      },
      "execution_count": null,
      "outputs": []
    },
    {
      "cell_type": "code",
      "source": [
        "print(sum_des/13)"
      ],
      "metadata": {
        "id": "KSwrenQ7kvpj"
      },
      "execution_count": null,
      "outputs": []
    },
    {
      "cell_type": "markdown",
      "source": [
        "# 감성점수"
      ],
      "metadata": {
        "id": "im7ptXlUrG3y"
      }
    },
    {
      "cell_type": "code",
      "source": [
        "# 이상치 정의를 위한 IQR 계산\n",
        "Q1 = data[\"감성점수\"].quantile(0.25)\n",
        "Q3 = data[\"감성점수\"].quantile(0.75)\n",
        "IQR = Q3 - Q1\n",
        "\n",
        "upper_bound = Q3 + 1.5 * IQR\n",
        "upper_bound"
      ],
      "metadata": {
        "id": "I7WfcxssoAgA"
      },
      "execution_count": null,
      "outputs": []
    },
    {
      "cell_type": "code",
      "source": [
        "like = data[[\"월\",\"연도\",\"감성점수\"]]\n",
        "sum = 0\n",
        "sum_des = 0\n",
        "for i in range(0,13):\n",
        "    data1 = like.iloc[i::13]\n",
        "\n",
        "    data2 = data1[data1[\"감성점수\"] < upper_bound]\n",
        "    plt.figure(figsize = (4, 7))\n",
        "    sns.boxplot(y=data2[\"감성점수\"])\n",
        "    plt.title(f'{i}월 감성점수', size = 15)\n",
        "    # Matplotlib 함수를 사용하여 플롯의 숫자 형식 변경\n",
        "    plt.ticklabel_format(style='plain', axis='y')  # 'axis' 매개변수 추가\n",
        "    plt.show()\n",
        "\n",
        "    print(data2[\"감성점수\"].describe())\n",
        "\n",
        "    # 이상치 정의를 위한 IQR 계산\n",
        "    Q1 = data2[\"감성점수\"].quantile(0.25)\n",
        "    Q3 = data2[\"감성점수\"].quantile(0.75)\n",
        "    IQR = Q3 - Q1\n",
        "\n",
        "    # IQR을 사용하여 이상치 제거\n",
        "    upper_bound = Q3 + 1.5 * IQR\n",
        "    print(\"*************************************************************\")\n",
        "    print(upper_bound)\n",
        "    sum = upper_bound + sum\n",
        "    sum_des = data2[\"감성점수\"].describe() +  sum_des\n",
        "    print(\"*************************************************************\")\n",
        "\n",
        "\n",
        "print(sum /13)\n",
        "print(sum_des / 13)"
      ],
      "metadata": {
        "id": "CKXloHlKrYG4"
      },
      "execution_count": null,
      "outputs": []
    },
    {
      "cell_type": "code",
      "source": [
        "sum_des/13"
      ],
      "metadata": {
        "id": "auT0j7ncrf8Y"
      },
      "execution_count": null,
      "outputs": []
    },
    {
      "cell_type": "markdown",
      "source": [
        "# 평균_영상간격"
      ],
      "metadata": {
        "id": "hVKhU4dkrq9y"
      }
    },
    {
      "cell_type": "code",
      "source": [
        "# 이상치 정의를 위한 IQR 계산\n",
        "Q1 = data[\"평균_영상간격\"].quantile(0.25)\n",
        "Q3 = data[\"평균_영상간격\"].quantile(0.75)\n",
        "IQR = Q3 - Q1\n",
        "\n",
        "upper_bound = Q3 + 1.5 * IQR\n",
        "upper_bound"
      ],
      "metadata": {
        "id": "bc0WBrR9rppw"
      },
      "execution_count": null,
      "outputs": []
    },
    {
      "cell_type": "code",
      "source": [
        "like = data[[\"월\",\"연도\",\"평균_영상간격\"]]\n",
        "sum = 0\n",
        "sum_des = 0\n",
        "for i in range(0,13):\n",
        "    data1 = like.iloc[i::13]\n",
        "\n",
        "    data2 = data1[data1[\"평균_영상간격\"] < upper_bound]\n",
        "    plt.figure(figsize = (4, 7))\n",
        "    sns.boxplot(y=data2[\"평균_영상간격\"])\n",
        "    plt.title(f'{i}월 평균_영상간격', size = 15)\n",
        "    # Matplotlib 함수를 사용하여 플롯의 숫자 형식 변경\n",
        "    plt.ticklabel_format(style='plain', axis='y')  # 'axis' 매개변수 추가\n",
        "    plt.show()\n",
        "\n",
        "    print(data2[\"평균_영상간격\"].describe())\n",
        "\n",
        "    # 이상치 정의를 위한 IQR 계산\n",
        "    Q1 = data2[\"평균_영상간격\"].quantile(0.25)\n",
        "    Q3 = data2[\"평균_영상간격\"].quantile(0.75)\n",
        "    IQR = Q3 - Q1\n",
        "\n",
        "    # IQR을 사용하여 이상치 제거\n",
        "    upper_bound = Q3 + 1.5 * IQR\n",
        "    print(\"*************************************************************\")\n",
        "    print(upper_bound)\n",
        "    sum = upper_bound + sum\n",
        "    sum_des = data2[\"평균_영상간격\"].describe() +  sum_des\n",
        "    print(\"*************************************************************\")\n",
        "\n",
        "\n",
        "print(sum /13)\n",
        "print(sum_des / 13)"
      ],
      "metadata": {
        "id": "n1n8UvsufBhK"
      },
      "execution_count": null,
      "outputs": []
    },
    {
      "cell_type": "code",
      "source": [
        "print(sum_des / 13)"
      ],
      "metadata": {
        "id": "1-jdIFlHfCeG"
      },
      "execution_count": null,
      "outputs": []
    },
    {
      "cell_type": "code",
      "source": [
        "data['평균_영상간격'].describe()"
      ],
      "metadata": {
        "id": "Bn_guk8wfCl2"
      },
      "execution_count": null,
      "outputs": []
    },
    {
      "cell_type": "markdown",
      "source": [
        "등급 산출"
      ],
      "metadata": {
        "id": "XajE36FO-G9I"
      }
    },
    {
      "cell_type": "code",
      "source": [
        "for index, row in data.iterrows():\n",
        "    if row['구독자 성장율'] < 1:\n",
        "        data.at[index, '구독자 성장율점수'] = 0\n",
        "    elif row['구독자 성장율'] == 1:\n",
        "        data.at[index, '구독자 성장율점수'] = 5\n",
        "    elif 1 < row['구독자 성장율'] < 5:\n",
        "        data.at[index, '구독자 성장율점수'] = 7.5\n",
        "    elif row['구독자 성장율'] > 5:\n",
        "        data.at[index, '구독자 성장율점수'] = 10\n",
        "    else:\n",
        "       pass"
      ],
      "metadata": {
        "id": "dn0Du6ra-GOV"
      },
      "execution_count": null,
      "outputs": []
    },
    {
      "cell_type": "code",
      "source": [
        "data.info()"
      ],
      "metadata": {
        "id": "usybQJgy_XYE"
      },
      "execution_count": null,
      "outputs": []
    },
    {
      "cell_type": "code",
      "source": [
        "for index, row in data.iterrows():\n",
        "    if 0 <= row['감성점수'] < 0.620799:\n",
        "        data.at[index, '감성점수점수'] = 2\n",
        "    elif 0.620799 <= row['감성점수'] < 0.681174:\n",
        "        data.at[index, '감성점수점수'] = 4\n",
        "    elif 0.681174 <= row['감성점수'] < 0.743768:\n",
        "        data.at[index, '감성점수점수'] = 6\n",
        "    elif 0.743768 <= row['감성점수'] < 0.883964:\n",
        "        data.at[index, '감성점수점수'] = 8\n",
        "    elif row['감성점수'] >= 0.883964:\n",
        "        data.at[index, '감성점수점수'] = 10\n",
        "    else:\n",
        "        data.at[index, '감성점수점수'] = 0"
      ],
      "metadata": {
        "id": "Q57tF6Pu_okq"
      },
      "execution_count": null,
      "outputs": []
    },
    {
      "cell_type": "code",
      "source": [
        "data.info()"
      ],
      "metadata": {
        "id": "buUxskekAZR6"
      },
      "execution_count": null,
      "outputs": []
    },
    {
      "cell_type": "code",
      "source": [
        "data.info()"
      ],
      "metadata": {
        "id": "g3szzaphHDVp"
      },
      "execution_count": null,
      "outputs": []
    },
    {
      "cell_type": "code",
      "source": [
        "data"
      ],
      "metadata": {
        "id": "AOkYV-hwIX5o"
      },
      "execution_count": null,
      "outputs": []
    },
    {
      "cell_type": "code",
      "source": [
        "data.info()"
      ],
      "metadata": {
        "id": "c2FcF56oJGAI"
      },
      "execution_count": null,
      "outputs": []
    },
    {
      "cell_type": "code",
      "source": [
        "for index, row in data.iterrows():\n",
        "    if 0 <= row['평균_영상간격'] < 4.104945:\n",
        "        data.at[index, '평균_영상간격점수'] = 15\n",
        "    elif 4.104945 <= row['평균_영상간격'] < 6.101923:\n",
        "        data.at[index, '평균_영상간격점수'] = 12\n",
        "    elif 6.101923 <= row['평균_영상간격'] < 7.4358978:\n",
        "        data.at[index, '평균_영상간격점수'] = 9\n",
        "    elif 7.4358978 <= row['평균_영상간격'] < 12.384615:\n",
        "        data.at[index, '평균_영상간격점수'] = 6\n",
        "    elif row['평균_영상간격'] >= 12.384615:\n",
        "        data.at[index, '평균_영상간격점수'] = 3\n",
        "    else:\n",
        "        data.at[index, '평균_영상간격점수'] = 0"
      ],
      "metadata": {
        "id": "8kmG8UP7Abfx"
      },
      "execution_count": null,
      "outputs": []
    },
    {
      "cell_type": "code",
      "source": [
        "data.to_csv('값점수_소정.csv')"
      ],
      "metadata": {
        "id": "50nsFHnjBGsR"
      },
      "execution_count": null,
      "outputs": []
    },
    {
      "cell_type": "code",
      "source": [
        "data[['유투버','월','연도','구독자 성장율점수',\n",
        "       '감성점수점수', '평균_영상간격점수']].to_csv('소정점수만.csv')"
      ],
      "metadata": {
        "id": "QrJZx5CHBOhD"
      },
      "execution_count": null,
      "outputs": []
    },
    {
      "cell_type": "markdown",
      "source": [
        "## 등급 확인"
      ],
      "metadata": {
        "id": "ArQpBDERCWZ7"
      }
    },
    {
      "cell_type": "code",
      "source": [
        "df = pd.read_csv('/content/값점수_소정.csv', encoding='cp949',index_col = 0)"
      ],
      "metadata": {
        "id": "BwbCsRbJCX86"
      },
      "execution_count": null,
      "outputs": []
    },
    {
      "cell_type": "code",
      "source": [
        "dg = data[[ '구독자 성장율점수','감성점수점수', '평균_영상간격점수']]"
      ],
      "metadata": {
        "id": "e3oqTa3JCMAO"
      },
      "execution_count": null,
      "outputs": []
    },
    {
      "cell_type": "code",
      "source": [
        "dg[['구독자 성장율점수']] = dg[['구독자 성장율점수']].astype('category')"
      ],
      "metadata": {
        "id": "Kw3nXv_FC6uX"
      },
      "execution_count": null,
      "outputs": []
    },
    {
      "cell_type": "code",
      "source": [
        "dg[['감성점수점수']] = dg[['감성점수점수']].astype('category')"
      ],
      "metadata": {
        "id": "beytUvhhDL5Z"
      },
      "execution_count": null,
      "outputs": []
    },
    {
      "cell_type": "code",
      "source": [
        "dg[['평균_영상간격점수']] = dg[['평균_영상간격점수']].astype('category')"
      ],
      "metadata": {
        "id": "EdmoXVSLDO8k"
      },
      "execution_count": null,
      "outputs": []
    },
    {
      "cell_type": "code",
      "source": [
        "dg[['구독자 성장율점수']].value_counts()"
      ],
      "metadata": {
        "id": "Tk16n_IaDgjW"
      },
      "execution_count": null,
      "outputs": []
    },
    {
      "cell_type": "code",
      "source": [
        "dg[['감성점수점수']].value_counts()"
      ],
      "metadata": {
        "id": "NcqOQMHXDgXG"
      },
      "execution_count": null,
      "outputs": []
    },
    {
      "cell_type": "code",
      "source": [
        "dg[['평균_영상간격점수']].value_counts()"
      ],
      "metadata": {
        "id": "4dRziH_TDSFI"
      },
      "execution_count": null,
      "outputs": []
    },
    {
      "cell_type": "code",
      "source": [],
      "metadata": {
        "id": "E9z_9fc5DfT9"
      },
      "execution_count": null,
      "outputs": []
    }
  ]
}