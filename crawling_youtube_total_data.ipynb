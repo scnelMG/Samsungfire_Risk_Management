{
 "cells": [
  {
   "cell_type": "markdown",
   "metadata": {},
   "source": [
    "# 필요 라이브러리 불러오기"
   ]
  },
  {
   "cell_type": "code",
   "execution_count": null,
   "metadata": {},
   "outputs": [],
   "source": [
    "# !pip install pytube"
   ]
  },
  {
   "cell_type": "code",
   "execution_count": 1,
   "metadata": {},
   "outputs": [
    {
     "name": "stderr",
     "output_type": "stream",
     "text": [
      "c:\\anaconda3\\envs\\py_397\\lib\\site-packages\\numpy\\_distributor_init.py:30: UserWarning: loaded more than 1 DLL from .libs:\n",
      "c:\\anaconda3\\envs\\py_397\\lib\\site-packages\\numpy\\.libs\\libopenblas.FB5AE2TYXYH2IJRDKGDGQ3XBKLKTF43H.gfortran-win_amd64.dll\n",
      "c:\\anaconda3\\envs\\py_397\\lib\\site-packages\\numpy\\.libs\\libopenblas64__v0.3.21-gcc_10_3_0.dll\n",
      "  warnings.warn(\"loaded more than 1 DLL from .libs:\"\n"
     ]
    }
   ],
   "source": [
    "from selenium import webdriver\n",
    "from webdriver_manager.chrome import ChromeDriverManager\n",
    "from selenium.webdriver.common.by import By\n",
    "from selenium.webdriver.chrome.service import Service\n",
    "import time\n",
    "from openpyxl import Workbook\n",
    "from openpyxl import load_workbook\n",
    "from openpyxl.styles import Alignment\n",
    "from pytube import YouTube\n",
    "import datetime\n",
    "import pandas as pd\n",
    "from bs4 import BeautifulSoup\n",
    "from selenium import webdriver\n",
    "from webdriver_manager.chrome import ChromeDriverManager\n",
    "from tqdm import tqdm\n",
    "import time\n",
    "import re\n",
    "import requests\n",
    "import random\n",
    "import os"
   ]
  },
  {
   "cell_type": "markdown",
   "metadata": {},
   "source": [
    "# 필요 클래스 정의"
   ]
  },
  {
   "cell_type": "code",
   "execution_count": 2,
   "metadata": {},
   "outputs": [],
   "source": [
    "# 좀 더 빨리 스크롤 내리는 방법 인용 # https://manyda.tistory.com/10\n",
    "#Queue의 기본적인 기능 구현\n",
    "class Queue():\n",
    "    def __init__(self, maxsize):\n",
    "        self.queue = []\n",
    "        self.maxsize = maxsize\n",
    "        \n",
    "    # Queue에 Data 넣음\n",
    "    def enqueue(self, data):\n",
    "        self.queue.append(data)\n",
    "\n",
    "    # Queue에 가장 먼저 들어온 Data 내보냄\n",
    "    def dequeue(self):\n",
    "        dequeue_object = None\n",
    "        if self.isEmpty():\n",
    "            print(\"Queue is Empty\")\n",
    "        else:\n",
    "            dequeue_object = self.queue[0]\n",
    "            self.queue = self.queue[1:]\n",
    "        return dequeue_object\n",
    "    \n",
    "    # Queue에 가장 먼저들어온 Data return\n",
    "    def peek(self):\n",
    "        peek_object = None\n",
    "        if self.isEmpty():\n",
    "            print(\"Queue is Empty\")\n",
    "        else:\n",
    "            peek_object = self.queue[0]\n",
    "        return peek_object\n",
    "    \n",
    "    # Queue가 비어있는지 확인\n",
    "    def isEmpty(self):\n",
    "        is_empty = False\n",
    "        if len(self.queue) == 0:\n",
    "            is_empty = True\n",
    "        return is_empty\n",
    "    \n",
    "    # Queue의 Size가 Max Size를 초과하는지 확인\n",
    "    def isMaxSizeOver(self):\n",
    "        queue_size = len(self.queue)\n",
    "        if (queue_size > self.maxsize):\n",
    "            return False\n",
    "        else :\n",
    "            return True"
   ]
  },
  {
   "cell_type": "markdown",
   "metadata": {},
   "source": [
    "# 유튜버 영상들 정보 수집"
   ]
  },
  {
   "cell_type": "code",
   "execution_count": null,
   "metadata": {},
   "outputs": [],
   "source": [
    "temp_list = pd.read_excel('./data/뷰티_리스트.xlsx')\n",
    "temp_list.iloc[100:200, 0].to_list()   "
   ]
  },
  {
   "cell_type": "code",
   "execution_count": 6,
   "metadata": {},
   "outputs": [],
   "source": [
    "youtuber_list = temp_list.iloc[100:200, 0].to_list()  "
   ]
  },
  {
   "cell_type": "code",
   "execution_count": 6,
   "metadata": {},
   "outputs": [
    {
     "data": {
      "text/plain": [
       "['JJUDRE쭈드레',\n",
       " 'keumangkeu크망크',\n",
       " 'total_video_data',\n",
       " 'total_video_df.csv',\n",
       " '그레인Grain',\n",
       " '꽃세히sayblossom',\n",
       " '댓글_데이터',\n",
       " '둘째Doolzzae',\n",
       " '레삐디오(RepitProfessional)',\n",
       " '몽키TV',\n",
       " '문군MOONGOON',\n",
       " '보니bonny',\n",
       " '뷰티_리스트.xlsx',\n",
       " '숩니subni',\n",
       " '애슐리Ashley',\n",
       " '애콤',\n",
       " '팔색쪼마리',\n",
       " '패션-정찬양',\n",
       " '홍띠끄hongtique']"
      ]
     },
     "execution_count": 6,
     "metadata": {},
     "output_type": "execute_result"
    }
   ],
   "source": [
    "youtuber_list = os.listdir('./data')\n",
    "youtuber_list.remove('labeled_data')\n",
    "youtuber_list.remove('total_comment_data.xlsx')\n",
    "youtuber_list.remove('total_comment_data.csv')\n",
    "youtuber_list.remove('token_output.csv')\n",
    "youtuber_list"
   ]
  },
  {
   "cell_type": "code",
   "execution_count": 18,
   "metadata": {},
   "outputs": [
    {
     "data": {
      "text/plain": [
       "['미소제인',\n",
       " 'So Young',\n",
       " 'Jenny Crush',\n",
       " '다예',\n",
       " '소의튜브',\n",
       " '아이엠맹',\n",
       " '피로',\n",
       " 'Coco Riley',\n",
       " '와디의 신발장',\n",
       " 'SELFCARE 결',\n",
       " 'Queen Solmee',\n",
       " '에이프롬',\n",
       " '퓨딩',\n",
       " '은조미',\n",
       " '지안씨',\n",
       " '유리숍',\n",
       " '엘피디',\n",
       " 'SOONSIKI',\n",
       " \"Hong's MakeuPlay\",\n",
       " '스토커즈',\n",
       " '정다윤',\n",
       " '혜봉',\n",
       " '썸블리',\n",
       " '치유',\n",
       " '멜로우']"
      ]
     },
     "execution_count": 18,
     "metadata": {},
     "output_type": "execute_result"
    }
   ],
   "source": [
    "temp_list = pd.read_excel('./data/뷰티_리스트.xlsx')\n",
    "temp_list.iloc[100:150, 0].to_list()[::2]"
   ]
  },
  {
   "cell_type": "code",
   "execution_count": 2,
   "metadata": {},
   "outputs": [
    {
     "name": "stderr",
     "output_type": "stream",
     "text": [
      "c:\\anaconda3\\envs\\py_397\\lib\\site-packages\\numpy\\_distributor_init.py:30: UserWarning: loaded more than 1 DLL from .libs:\n",
      "c:\\anaconda3\\envs\\py_397\\lib\\site-packages\\numpy\\.libs\\libopenblas.FB5AE2TYXYH2IJRDKGDGQ3XBKLKTF43H.gfortran-win_amd64.dll\n",
      "c:\\anaconda3\\envs\\py_397\\lib\\site-packages\\numpy\\.libs\\libopenblas64__v0.3.21-gcc_10_3_0.dll\n",
      "  warnings.warn(\"loaded more than 1 DLL from .libs:\"\n"
     ]
    },
    {
     "data": {
      "text/html": [
       "<div>\n",
       "<style scoped>\n",
       "    .dataframe tbody tr th:only-of-type {\n",
       "        vertical-align: middle;\n",
       "    }\n",
       "\n",
       "    .dataframe tbody tr th {\n",
       "        vertical-align: top;\n",
       "    }\n",
       "\n",
       "    .dataframe thead th {\n",
       "        text-align: right;\n",
       "    }\n",
       "</style>\n",
       "<table border=\"1\" class=\"dataframe\">\n",
       "  <thead>\n",
       "    <tr style=\"text-align: right;\">\n",
       "      <th></th>\n",
       "      <th>0</th>\n",
       "    </tr>\n",
       "  </thead>\n",
       "  <tbody>\n",
       "    <tr>\n",
       "      <th>0</th>\n",
       "      <td>@user-se5hh7bo3q</td>\n",
       "    </tr>\n",
       "    <tr>\n",
       "      <th>1</th>\n",
       "      <td>bangkokin</td>\n",
       "    </tr>\n",
       "    <tr>\n",
       "      <th>2</th>\n",
       "      <td>benny8282_nail</td>\n",
       "    </tr>\n",
       "    <tr>\n",
       "      <th>3</th>\n",
       "      <td>DAISY 데이지</td>\n",
       "    </tr>\n",
       "    <tr>\n",
       "      <th>4</th>\n",
       "      <td>Hisafu</td>\n",
       "    </tr>\n",
       "    <tr>\n",
       "      <th>...</th>\n",
       "      <td>...</td>\n",
       "    </tr>\n",
       "    <tr>\n",
       "      <th>80</th>\n",
       "      <td>현링</td>\n",
       "    </tr>\n",
       "    <tr>\n",
       "      <th>81</th>\n",
       "      <td>호수</td>\n",
       "    </tr>\n",
       "    <tr>\n",
       "      <th>82</th>\n",
       "      <td>화장품비평가최지현</td>\n",
       "    </tr>\n",
       "    <tr>\n",
       "      <th>83</th>\n",
       "      <td>회사원A</td>\n",
       "    </tr>\n",
       "    <tr>\n",
       "      <th>84</th>\n",
       "      <td>희주</td>\n",
       "    </tr>\n",
       "  </tbody>\n",
       "</table>\n",
       "<p>85 rows × 1 columns</p>\n",
       "</div>"
      ],
      "text/plain": [
       "                   0\n",
       "0   @user-se5hh7bo3q\n",
       "1          bangkokin\n",
       "2     benny8282_nail\n",
       "3          DAISY 데이지\n",
       "4             Hisafu\n",
       "..               ...\n",
       "80                현링\n",
       "81                호수\n",
       "82         화장품비평가최지현\n",
       "83              회사원A\n",
       "84                희주\n",
       "\n",
       "[85 rows x 1 columns]"
      ]
     },
     "execution_count": 2,
     "metadata": {},
     "output_type": "execute_result"
    }
   ],
   "source": [
    "import pandas as pd\n",
    "temp_list = pd.read_csv('./data/plus_total.csv')\n",
    "temp_list"
   ]
  },
  {
   "cell_type": "code",
   "execution_count": 4,
   "metadata": {},
   "outputs": [
    {
     "name": "stderr",
     "output_type": "stream",
     "text": [
      "C:\\Users\\Mgyu\\AppData\\Local\\Temp\\ipykernel_13392\\675304955.py:2: DeprecationWarning: executable_path has been deprecated, please pass in a Service object\n",
      "  driver = webdriver.Chrome(\"chromedriver-win64/chromedriver.exe\")\n",
      "100%|██████████| 85/85 [02:42<00:00,  1.91s/it]"
     ]
    },
    {
     "name": "stdout",
     "output_type": "stream",
     "text": [
      "@yekooooong_video_data.csv 저장완료 (길이 85)\n"
     ]
    },
    {
     "name": "stderr",
     "output_type": "stream",
     "text": [
      "\n"
     ]
    }
   ],
   "source": [
    "import os\n",
    "driver = webdriver.Chrome(\"chromedriver-win64/chromedriver.exe\")\n",
    "driver.maximize_window()\n",
    "youtuber_list = ['@yekooooong']\n",
    "for youtuber in youtuber_list:\n",
    "    df = pd.DataFrame(columns=['제목', 'URL', '조회수', '업데이트 날짜', '영상 길이', '영상 좋아요 수']) # 저장 데이터프레임 생성\n",
    "\n",
    "    \n",
    "\n",
    "    # 키워드로 접속\n",
    "    driver.get(f\"https://www.youtube.com/results?search_query={youtuber}\")\n",
    "    time.sleep(2) # 오류나면 잠시 기다리는 코드 추가해보기\n",
    "    driver.find_element(By.XPATH, '//*[@id=\"avatar-section\"]/a').click() # 채널 클릭\n",
    "    time.sleep(1)\n",
    "    driver.find_element(By.XPATH, '//*[@id=\"tabsContent\"]/tp-yt-paper-tab[2]').click() # 동영상 목록 클릭\n",
    "    \n",
    "\n",
    "\n",
    "    #down the scroll\n",
    "    body = driver.find_element(By.TAG_NAME, 'body')\n",
    "    last_page_height = driver.execute_script(\"return document.documentElement.scrollHeight\")\n",
    "\n",
    "    # max size 50의 Queue 생성\n",
    "    # 0.1sec * 50 = 5sec 동안 Scroll 업데이트가 없으면 스크롤 내리기 종료\n",
    "    szQ = Queue(50)\n",
    "    enqueue_count = 0\n",
    "\n",
    "    i = 0\n",
    "    while True:\n",
    "        # Scroll 내리기\n",
    "        driver.execute_script(\"window.scrollTo(0, document.documentElement.scrollHeight);\")\n",
    "        \n",
    "        # Scroll Height를 가져오는 주기\n",
    "        time.sleep(0.1)\n",
    "        new_page_height = driver.execute_script(\"return document.documentElement.scrollHeight\")\n",
    "        \n",
    "        # Queue가 꽉 차는 경우 스크롤 내리기 종료\n",
    "        if(enqueue_count > szQ.maxsize):\n",
    "            break\n",
    "        \n",
    "        # 첫 Loop 수행 (Queue가 비어있는 경우) 예외 처리\n",
    "        if(szQ.isEmpty()) :\n",
    "            szQ.enqueue(new_page_height)\n",
    "            enqueue_count += 1\n",
    "            \n",
    "        # Queue에 가장 먼저 들어온 데이터와 새로 업데이트 된 Scroll Height를 비교함\n",
    "        # 같으면 그대로 Enqueue, 다르면 Queue의 모든 Data를 Dequeue 후 새로운 Scroll Height를 Enqueue 함.    \n",
    "        else :\n",
    "            if(szQ.peek() == new_page_height) :\n",
    "                szQ.enqueue(new_page_height)\n",
    "                enqueue_count += 1\n",
    "            else :\n",
    "                szQ.enqueue(new_page_height)\n",
    "                for z in range(enqueue_count) :\n",
    "                    szQ.dequeue()\n",
    "                enqueue_count = 1\n",
    "        \n",
    "\n",
    "\n",
    "    titles = driver.find_elements(By.XPATH, '//*[@id=\"video-title-link\"]') \n",
    "    for title in titles:\n",
    "        main_title = title.get_property(\"title\")\n",
    "        url = title.get_property(\"href\")\n",
    "        df.loc[len(df), ['제목', 'URL']] =  [main_title, url]\n",
    "\n",
    "    \n",
    "    for i in tqdm(range(len(df))):\n",
    "\n",
    "        url = df.iloc[i,1]\n",
    "        tube = YouTube(url)\n",
    "\n",
    "        view = tube.views # 조회수 불러오기\n",
    "        update_dates = str(tube.publish_date)  # 업데이트 날짜 불러와서 str 형태로 변환\n",
    "        update_date = update_dates.split(\" \")  # 업데이트 날짜 string을 공백으로 분리\n",
    "\n",
    "        # 업데이트 날짜는 0000-00-00 00-00-00 형태인데 앞의 날짜부분만 추출하려 합니다.\n",
    "        length_second = int(tube.length) # 유튜브 영상의 길이를 불러옴(문자 형태인것 같아서 int로 변환) / 문자가 아닐 수도...\n",
    "        length = str(datetime.timedelta(seconds=length_second)) # datetime 모듈의 timedelta 함수로 초를 시:분:초 로 변환\n",
    "        \n",
    "        df.iloc[i, 2] = view \n",
    "        df.iloc[i, 3] = update_date[0] # 추출한 날짜 중 앞의 날짜부분만 추출\n",
    "        df.iloc[i, 4] = length\n",
    "\n",
    "\n",
    "    df.to_csv(f'./data/total_video_data/{youtuber}_video_data.csv')\n",
    "    print(f'{youtuber}_video_data.csv 저장완료 (길이 {len(df)})')\n",
    "    \n",
    "\n"
   ]
  }
 ],
 "metadata": {
  "kernelspec": {
   "display_name": "py_397",
   "language": "python",
   "name": "py_397"
  },
  "language_info": {
   "codemirror_mode": {
    "name": "ipython",
    "version": 3
   },
   "file_extension": ".py",
   "mimetype": "text/x-python",
   "name": "python",
   "nbconvert_exporter": "python",
   "pygments_lexer": "ipython3",
   "version": "3.9.7"
  }
 },
 "nbformat": 4,
 "nbformat_minor": 2
}
